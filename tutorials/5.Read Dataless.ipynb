{
 "cells": [
  {
   "cell_type": "markdown",
   "id": "a94b3418",
   "metadata": {},
   "source": [
    "https://docs.obspy.org/tutorial/code_snippets/reading_seismograms.html"
   ]
  },
  {
   "cell_type": "code",
   "execution_count": 13,
   "id": "39490e1c",
   "metadata": {},
   "outputs": [],
   "source": [
    "from obspy.io.xseed import Parser\n",
    "from obspy import UTCDateTime"
   ]
  },
  {
   "cell_type": "code",
   "execution_count": 7,
   "id": "09e266ee",
   "metadata": {},
   "outputs": [],
   "source": [
    "p = Parser('D:\\\\eew-nn-project\\\\util\\\\dt_root\\\\CN.dataless')"
   ]
  },
  {
   "cell_type": "code",
   "execution_count": 8,
   "id": "25931daf",
   "metadata": {},
   "outputs": [],
   "source": [
    "blk = p.blockettes"
   ]
  },
  {
   "cell_type": "code",
   "execution_count": 12,
   "id": "7c667f1c",
   "metadata": {},
   "outputs": [
    {
     "data": {
      "text/plain": [
       "13"
      ]
     },
     "execution_count": 12,
     "metadata": {},
     "output_type": "execute_result"
    }
   ],
   "source": [
    "len(blk)"
   ]
  },
  {
   "cell_type": "code",
   "execution_count": 17,
   "id": "850d9c85",
   "metadata": {},
   "outputs": [
    {
     "data": {
      "text/plain": [
       "dict_keys([10, 11, 12, 30, 31, 33, 34, 50, 52, 53, 58, 54, 57])"
      ]
     },
     "execution_count": 17,
     "metadata": {},
     "output_type": "execute_result"
    }
   ],
   "source": [
    "blk.keys()"
   ]
  },
  {
   "cell_type": "code",
   "execution_count": 21,
   "id": "a09754f9",
   "metadata": {},
   "outputs": [
    {
     "data": {
      "text/plain": [
       "obspy.io.xseed.blockette.blockette010.Blockette010"
      ]
     },
     "execution_count": 21,
     "metadata": {},
     "output_type": "execute_result"
    }
   ],
   "source": [
    "type(blk[10][0])"
   ]
  },
  {
   "cell_type": "code",
   "execution_count": 50,
   "id": "f7bf7212",
   "metadata": {},
   "outputs": [],
   "source": [
    "def view(temp):\n",
    "    print(len(temp))\n",
    "    print(type(temp))\n",
    "    print(temp[0])\n",
    "    \n",
    "def view_deep(temp):\n",
    "    print(len(temp))\n",
    "    print(type(temp))\n",
    "    print(temp[:])"
   ]
  },
  {
   "cell_type": "code",
   "execution_count": 41,
   "id": "e963aed0",
   "metadata": {},
   "outputs": [
    {
     "name": "stdout",
     "output_type": "stream",
     "text": [
      "1\n",
      "<class 'list'>\n",
      "Blockette 010: Volume Identifier Blockette\r\n",
      "                Beginning Time: 1980-08-12T00:00:00.000000Z\r\n",
      "                      End Time: 2020-12-09T14:12:02.000000Z\r\n",
      "                         Label: b''\r\n",
      "         Logical Record Length: 12\r\n",
      "      Originating Organization: b'Geological Survey of Canada'\r\n",
      "                     Record Id: None\r\n",
      "                   Record Type: V\r\n",
      "             Version Of Format: 2.4\r\n",
      "                   Volume Time: 2020-12-21T20:03:19.569000Z\n"
     ]
    }
   ],
   "source": [
    "view(blk[10])"
   ]
  },
  {
   "cell_type": "code",
   "execution_count": 42,
   "id": "d4ded11c",
   "metadata": {},
   "outputs": [
    {
     "name": "stdout",
     "output_type": "stream",
     "text": [
      "1\n",
      "<class 'list'>\n",
      "Blockette 011: Volume Station Header Index Blockette\r\n",
      "            Number Of Stations: 303\r\n",
      "                     Record Id: None\r\n",
      "                   Record Type: V\r\n",
      "Sequence Number Of Station Header: [3, 65, 121, 188, 247, 314, 381, 383, 417, 430, 440, 474, 496, 554, 561, 613, 658, 660, 694, 697, 709, 753, 768, 780, 826, 829, 841, 843, 866, 900, 933, 942, 976, 1010, 1033, 1150, 1173, 1195, 1229, 1231, 1287, 1343, 1345, 1367, 1370, 1372, 1463, 1532, 1562, 1640, 1643, 1689, 1741, 1763, 1764, 1814, 1880, 1892, 1896, 1943, 1977, 1979, 1991, 2032, 2066, 2116, 2131, 2143, 2294, 2296, 2319, 2470, 2493, 2528, 2536, 2595, 2641, 2676, 2678, 2680, 2692, 2723, 2745, 2767, 2811, 2822, 2833, 2841, 2872, 2913, 2936, 3002, 3071, 3082, 3116, 3117, 3139, 3186, 3250, 3252, 3308, 3351, 3373, 3375, 3409, 3457, 3468, 3567, 3634, 3668, 3670, 3693, 3706, 3740, 3762, 3785, 3787, 3809, 3817, 3872, 3960, 4034, 4038, 4053, 4097, 4122, 4157, 4186, 4218, 4250, 4280, 4292, 4313, 4325, 4379, 4388, 4420, 4454, 4457, 4459, 4491, 4539, 4598, 4609, 4611, 4633, 4643, 4653, 4663, 4674, 4685, 4697, 4699, 4710, 4721, 4723, 4757, 4796, 4808, 4885, 4896, 4930, 4975, 4997, 5019, 5099, 5162, 5185, 5230, 5273, 5307, 5323, 5433, 5550, 5558, 5592, 5640, 5652, 5697, 5726, 5760, 5844, 5878, 5912, 5943, 5977, 5988, 5998, 6064, 6075, 6086, 6094, 6103, 6105, 6174, 6278, 6323, 6345, 6353, 6355, 6384, 6512, 6534, 6556, 6578, 6642, 6665, 6687, 6712, 6734, 6756, 6814, 6816, 6901, 6935, 6948, 6959, 6961, 6983, 6995, 7028, 7050, 7095, 7129, 7146, 7168, 7190, 7237, 7248, 7256, 7258, 7292, 7337, 7451, 7464, 7486, 7489, 7512, 7546, 7547, 7618, 7636, 7658, 7706, 7749, 7803, 7805, 7853, 7868, 7914, 7949, 7997, 8019, 8030, 8041, 8052, 8074, 8085, 8096, 8118, 8129, 8140, 8151, 8162, 8173, 8184, 8195, 8217, 8228, 8250, 8282, 8314, 8324, 8334, 8344, 8354, 8364, 8374, 8384, 8394, 8404, 8414, 8424, 8434, 8444, 8454, 8464, 8474, 8484, 8494, 8508, 8515, 8527, 8534, 8549, 8582, 8594, 8606, 8618, 8640, 8652, 8664, 8676]\r\n",
      "       Station Identifier Code: ['A11', 'A16', 'A21', 'A54', 'A61', 'A64', 'ALB', 'ATKO', 'B1NU', 'B2NU', 'BAIB', 'BATG', 'BBB', 'BCBC', 'BCLQ', 'BFSB', 'BIB', 'BJBQ', 'BLBC', 'BLKN', 'BMBC', 'BMSB', 'BMTB', 'BNAB', 'BNB', 'BOIN', 'BPBC', 'BPEB', 'BRWY', 'BSPQ', 'BTB', 'BVCY', 'CACQ', 'CALQ', 'CBB', 'CHEG', 'CHIQ', 'CHRO', 'CKO', 'CLRN', 'CLRS', 'CNQ', 'COBO', 'CRLO', 'DAQ', 'DAWY', 'DI2B', 'DIB', 'DLBC', 'DOWB', 'DPQ', 'DRLN', 'DRMQ', 'EBN', 'EDB', 'EDM', 'EDMN', 'EEO', 'EFO', 'EPLO', 'ETB', 'EUNU', 'FCC', 'FHBB', 'FNBB', 'FNBC', 'FNSB', 'FRB', 'FSB', 'FSJB', 'GAC', 'GBN', 'GDR', 'GFNU', 'GGN', 'GOBB', 'GRQ', 'GSQ', 'GTO', 'GTOO', 'HAL', 'HG1B', 'HG3B', 'HG4B', 'HGPB', 'HGSB', 'HMNT', 'HNB', 'HNBB', 'HNYB', 'HOLB', 'HOPB', 'HSMO', 'HSNB', 'HTQ', 'HWKO', 'HYT', 'ICQ', 'IGL', 'ILON', 'INK', 'JAKH', 'JAQ', 'JEDB', 'KAPO', 'KASO', 'KGNO', 'KILO', 'KIPQ', 'KLN', 'KUKN', 'KUQ', 'LDAQ', 'LDIO', 'LDSQ', 'LG4Q', 'LGNH', 'LIB', 'LLLB', 'LMN', 'LMQ', 'LPQ', 'LZB', 'MALO', 'MASB', 'MAYB', 'MBC', 'MCA1', 'MCA2', 'MCA3', 'MCA4', 'MCA5', 'MCMB1', 'MCNB', 'MGB', 'MGMB', 'MGRB', 'MNB', 'MNQ', 'MNT', 'MNTQ', 'MOBC', 'MOBC2', 'MOQ', 'MRBQ', 'MSH11', 'MSH21', 'MSH31', 'MSNO', 'MUMO', 'MYRA', 'NAB', 'NANO', 'NATG', 'NCRB', 'NCSB', 'NDB', 'NINL', 'NLLB', 'NSKO', 'NTKA', 'ORIO', 'OTAO', 'OTRO', 'OTT', 'OZB', 'PABB', 'PACB', 'PAPH', 'PCLB', 'PFB', 'PGC', 'PHC', 'PINU', 'PKLO', 'PLBC', 'PLSQ', 'PMAQ', 'PMB', 'PNPO', 'PNT', 'POIN', 'PTRF', 'QCQ', 'QEPB', 'RDLO', 'RDLQ', 'RES', 'RIGQ', 'RISQ', 'RLKO', 'ROUQ', 'RUB', 'RUBB', 'SADO', 'SAKN', 'SANQ', 'SBNU', 'SBQ', 'SCH', 'SCHQ', 'SELQ', 'SFA', 'SGRQ', 'SHB', 'SHPB', 'SILO', 'SJNN', 'SJUQ', 'SLBQ', 'SLEB', 'SMQ', 'SNB', 'SNFQ', 'SOLO', 'STJA', 'STJN', 'STPQ', 'SUBO', 'SUNO', 'SURQ', 'SYMB', 'TAHB', 'TBO', 'TIMO', 'TKWB', 'TRQ', 'TSUB', 'TULEG', 'TXB', 'TXDB', 'UBRB', 'ULM', 'UPNG', 'VABQ', 'VDB', 'VDBQ', 'VDEB', 'VDQ', 'VGZ', 'VIB', 'VIMO', 'VLDQ', 'WALA', 'WBO', 'WEO', 'WHY', 'WISB', 'WOSB', 'WPB', 'WSLR', 'YKAB0', 'YKAB1', 'YKAB2', 'YKAB3', 'YKAB4', 'YKAB6', 'YKAB7', 'YKAB8', 'YKAB9', 'YKAR1', 'YKAR2', 'YKAR3', 'YKAR4', 'YKAR5', 'YKAR6', 'YKAR7', 'YKAR8', 'YKAR9', 'YKAW1', 'YKAW3', 'YKB0', 'YKB1', 'YKB2', 'YKB3', 'YKB4', 'YKB6', 'YKB7', 'YKB8', 'YKB9', 'YKR1', 'YKR2', 'YKR3', 'YKR4', 'YKR5', 'YKR6', 'YKR7', 'YKR8', 'YKR9', 'YKW1', 'YKW2', 'YKW3', 'YKW4', 'YKW5', 'YOUB', 'YUK1', 'YUK2', 'YUK3', 'YUK4', 'YUK5', 'YUK6', 'YUK7', 'YUK8']\n"
     ]
    }
   ],
   "source": [
    "view(blk[11])"
   ]
  },
  {
   "cell_type": "code",
   "execution_count": 43,
   "id": "abdb6faa",
   "metadata": {},
   "outputs": [
    {
     "name": "stdout",
     "output_type": "stream",
     "text": [
      "1\n",
      "<class 'list'>\n",
      "Blockette 012: Volume Timespan Index Blockette\r\n",
      "             Beginning Of Span: 1980-08-12T00:00:00.000000Z\r\n",
      "                   End Of Span: 2020-12-09T14:12:02.000000Z\r\n",
      "      Number Of Spans In Table: 1\r\n",
      "                     Record Id: None\r\n",
      "                   Record Type: V\r\n",
      "Sequence Number Of Time Span Header: 8688\n"
     ]
    }
   ],
   "source": [
    "view(blk[12])"
   ]
  },
  {
   "cell_type": "code",
   "execution_count": 44,
   "id": "ef007a61",
   "metadata": {},
   "outputs": [
    {
     "name": "stdout",
     "output_type": "stream",
     "text": [
      "1\n",
      "<class 'list'>\n",
      "Blockette 030: Data Format Dictionary Blockette\r\n",
      "              Data Family Type: 50\r\n",
      "   Data Format Identifier Code: 3\r\n",
      "                  Decoder Keys: ['F1 P4 W4 D C2 R1 P8 W4 D C2', 'P0 W4 N15 S2,0,1', 'T0 X W4', 'T1 Y4 W1 D C2', 'T2 W4 I D2', 'K0 X D30', 'K1 N0 D30 C2', 'K2 Y2 D15 C2', 'K3 Y3 D10 C2', 'T3 W4 I D2', 'K0 Y5 D6 C2', 'K1 Y6 D5 C2', 'K2 X D2 Y7 D4 C2', 'K3 X D30']\r\n",
      "        Number Of Decoder Keys: 14\r\n",
      "                     Record Id: None\r\n",
      "                   Record Type: A\r\n",
      "        Short Descriptive Name: Steim2 Integer Compression Format\n"
     ]
    }
   ],
   "source": [
    "view(blk[30])"
   ]
  },
  {
   "cell_type": "code",
   "execution_count": 45,
   "id": "eaf6b96b",
   "metadata": {},
   "outputs": [
    {
     "name": "stdout",
     "output_type": "stream",
     "text": [
      "1\n",
      "<class 'list'>\n",
      "Blockette 031: Comment Description Blockette\r\n",
      "            Comment Class Code: V\r\n",
      "              Comment Code Key: 1\r\n",
      "        Description Of Comment: CSS Volume: gsc_dataless\r\n",
      "                     Record Id: None\r\n",
      "                   Record Type: A\r\n",
      "        Units Of Comment Level: 0\n"
     ]
    }
   ],
   "source": [
    "view(blk[31])"
   ]
  },
  {
   "cell_type": "code",
   "execution_count": 60,
   "id": "37f8f067",
   "metadata": {},
   "outputs": [
    {
     "name": "stdout",
     "output_type": "stream",
     "text": [
      "Blockette 033: Generic Abbreviation Blockette\r\n",
      "      Abbreviation Description: Canadian National Seismic Network\r\n",
      "      Abbreviation Lookup Code: 2\r\n",
      "                     Record Id: None\r\n",
      "                   Record Type: A\n",
      "Blockette 033: Generic Abbreviation Blockette\r\n",
      "      Abbreviation Description: Geotech S-13 SP seismometer/CNSN short-period S13\r\n",
      "      Abbreviation Lookup Code: 6\r\n",
      "                     Record Id: None\r\n",
      "                   Record Type: A\n",
      "Blockette 033: Generic Abbreviation Blockette\r\n",
      "      Abbreviation Description: Guralp CMG3T_30sec/CNSN GD2_v21 digitizer\r\n",
      "      Abbreviation Lookup Code: 8\r\n",
      "                     Record Id: None\r\n",
      "                   Record Type: A\n",
      "Blockette 033: Generic Abbreviation Blockette\r\n",
      "      Abbreviation Description: Guralp CMG3ESP_60sec/CNSN GD2_v21 digitizer\r\n",
      "      Abbreviation Lookup Code: 9\r\n",
      "                     Record Id: None\r\n",
      "                   Record Type: A\n",
      "Blockette 033: Generic Abbreviation Blockette\r\n",
      "      Abbreviation Description: Nanometrics Trillium 120 Sec PH Response/Taurus St\r\n",
      "      Abbreviation Lookup Code: 10\r\n",
      "                     Record Id: None\r\n",
      "                   Record Type: A\n",
      "Blockette 033: Generic Abbreviation Blockette\r\n",
      "      Abbreviation Description: Nanometrics Titan 4g/Taurus Standard 47k\r\n",
      "      Abbreviation Lookup Code: 12\r\n",
      "                     Record Id: None\r\n",
      "                   Record Type: A\n",
      "Blockette 033: Generic Abbreviation Blockette\r\n",
      "      Abbreviation Description: Guralp CMG3T_30sec/Taurus Standard 47k\r\n",
      "      Abbreviation Lookup Code: 13\r\n",
      "                     Record Id: None\r\n",
      "                   Record Type: A\n"
     ]
    }
   ],
   "source": [
    "print(blk[33][0])\n",
    "print(blk[33][1])\n",
    "print(blk[33][2])\n",
    "print(blk[33][3])\n",
    "print(blk[33][4])\n",
    "print(blk[33][5])\n",
    "print(blk[33][6])"
   ]
  },
  {
   "cell_type": "code",
   "execution_count": 53,
   "id": "8802578c",
   "metadata": {},
   "outputs": [
    {
     "name": "stdout",
     "output_type": "stream",
     "text": [
      "Blockette 034: Units Abbreviations Blockette\r\n",
      "                     Record Id: None\r\n",
      "                   Record Type: A\r\n",
      "              Unit Description: velocity in meters per second\r\n",
      "              Unit Lookup Code: 4\r\n",
      "                     Unit Name: M/S\n",
      "Blockette 034: Units Abbreviations Blockette\r\n",
      "                     Record Id: None\r\n",
      "                   Record Type: A\r\n",
      "              Unit Description: emf in volts\r\n",
      "              Unit Lookup Code: 5\r\n",
      "                     Unit Name: V\n",
      "Blockette 034: Units Abbreviations Blockette\r\n",
      "                     Record Id: None\r\n",
      "                   Record Type: A\r\n",
      "              Unit Description: digital counts\r\n",
      "              Unit Lookup Code: 7\r\n",
      "                     Unit Name: COUNTS\n",
      "Blockette 034: Units Abbreviations Blockette\r\n",
      "                     Record Id: None\r\n",
      "                   Record Type: A\r\n",
      "              Unit Description: acceleration in meters per seconds squared\r\n",
      "              Unit Lookup Code: 11\r\n",
      "                     Unit Name: M/S**2\n"
     ]
    }
   ],
   "source": [
    "print(blk[34][0])\n",
    "print(blk[34][1])\n",
    "print(blk[34][2])\n",
    "print(blk[34][3])"
   ]
  },
  {
   "cell_type": "code",
   "execution_count": 91,
   "id": "3ae2f7af",
   "metadata": {},
   "outputs": [
    {
     "name": "stdout",
     "output_type": "stream",
     "text": [
      "Station call letters\n"
     ]
    }
   ],
   "source": [
    "#for station in (blk[50]):\n",
    "#    print(station.fields[7])\n",
    "print(blk[50][0].fields[0].name)"
   ]
  },
  {
   "cell_type": "code",
   "execution_count": 64,
   "id": "c87a8ea4",
   "metadata": {},
   "outputs": [
    {
     "name": "stdout",
     "output_type": "stream",
     "text": [
      "Blockette 052: Channel Identifier Blockette\r\n",
      "                       Azimuth: 90.0\r\n",
      "                 Channel Flags: G\r\n",
      "            Channel Identifier: HHE\r\n",
      "   Data Format Identifier Code: 3\r\n",
      "            Data Record Length: 12\r\n",
      "                           Dip: 0.0\r\n",
      "                     Elevation: 55.0\r\n",
      "                      End Date: \r\n",
      "         Instrument Identifier: 10\r\n",
      "                      Latitude: 47.2431\r\n",
      "                   Local Depth: 0.0\r\n",
      "           Location Identifier: \r\n",
      "                     Longitude: -70.1969\r\n",
      "               Max Clock Drift: 0.0001\r\n",
      "            Number Of Comments: 0\r\n",
      "              Optional Comment: 2423 1820\r\n",
      "                     Record Id: None\r\n",
      "                   Record Type: S\r\n",
      "                   Sample Rate: 100.0\r\n",
      "                    Start Date: 2016-08-10T00:00:00.000000Z\r\n",
      "         Subchannel Identifier: 0\r\n",
      "    Units Of Calibration Input: 5\r\n",
      "      Units Of Signal Response: 4\r\n",
      "                   Update Flag: N\n"
     ]
    }
   ],
   "source": [
    "print(blk[52][9])"
   ]
  },
  {
   "cell_type": "code",
   "execution_count": 65,
   "id": "1edb1c65",
   "metadata": {},
   "outputs": [
    {
     "name": "stdout",
     "output_type": "stream",
     "text": [
      "4408\n",
      "<class 'list'>\n",
      "Blockette 053: Response Poles And Zeros Blockette\r\n",
      "       A0 Normalization Factor: 1.00195\r\n",
      "                Imaginary Pole: [4.443, -4.443]\r\n",
      "          Imaginary Pole Error: [0.0, 0.0]\r\n",
      "                Imaginary Zero: [0.0, 0.0]\r\n",
      "          Imaginary Zero Error: [0.0, 0.0]\r\n",
      "       Normalization Frequency: 4.0\r\n",
      "       Number Of Complex Poles: 2\r\n",
      "       Number Of Complex Zeros: 2\r\n",
      "                     Real Pole: [-4.443, -4.443]\r\n",
      "               Real Pole Error: [0.0, 0.0]\r\n",
      "                     Real Zero: [0.0, 0.0]\r\n",
      "               Real Zero Error: [0.0, 0.0]\r\n",
      "                     Record Id: None\r\n",
      "                   Record Type: S\r\n",
      "         Stage Sequence Number: 1\r\n",
      "      Stage Signal Input Units: 4\r\n",
      "     Stage Signal Output Units: 5\r\n",
      "       Transfer Function Types: A\n"
     ]
    }
   ],
   "source": [
    "view(blk[53])"
   ]
  },
  {
   "cell_type": "code",
   "execution_count": 66,
   "id": "b93ef4f8",
   "metadata": {},
   "outputs": [
    {
     "name": "stdout",
     "output_type": "stream",
     "text": [
      "15727\n",
      "<class 'list'>\n",
      "Blockette 058: Channel Sensitivity Gain Blockette\r\n",
      "                     Frequency: 4.0\r\n",
      "      Number Of History Values: 0\r\n",
      "                     Record Id: None\r\n",
      "                   Record Type: S\r\n",
      "              Sensitivity Gain: 443.834\r\n",
      "         Stage Sequence Number: 1\n"
     ]
    }
   ],
   "source": [
    "view(blk[58])"
   ]
  },
  {
   "cell_type": "code",
   "execution_count": 67,
   "id": "fff115cb",
   "metadata": {},
   "outputs": [
    {
     "name": "stdout",
     "output_type": "stream",
     "text": [
      "9234\n",
      "<class 'list'>\n",
      "Blockette 054: Response Coefficients Blockette\r\n",
      "        Number Of Denominators: 0\r\n",
      "          Number Of Numerators: 0\r\n",
      "                     Record Id: None\r\n",
      "                   Record Type: S\r\n",
      "                 Response Type: D\r\n",
      "            Signal Input Units: 5\r\n",
      "           Signal Output Units: 7\r\n",
      "         Stage Sequence Number: 3\n"
     ]
    }
   ],
   "source": [
    "view(blk[54])"
   ]
  },
  {
   "cell_type": "code",
   "execution_count": 68,
   "id": "2acab5ba",
   "metadata": {},
   "outputs": [
    {
     "name": "stdout",
     "output_type": "stream",
     "text": [
      "9000\n",
      "<class 'list'>\n",
      "Blockette 057: Decimation Blockette\r\n",
      "            Correction Applied: 0.0\r\n",
      "             Decimation Factor: 1\r\n",
      "             Decimation Offset: 0\r\n",
      "               Estimated Delay: 0.0\r\n",
      "             Input Sample Rate: 1000.0\r\n",
      "                     Record Id: None\r\n",
      "                   Record Type: S\r\n",
      "         Stage Sequence Number: 3\n"
     ]
    }
   ],
   "source": [
    "view(blk[57])"
   ]
  },
  {
   "cell_type": "code",
   "execution_count": null,
   "id": "5f931fab",
   "metadata": {},
   "outputs": [],
   "source": []
  }
 ],
 "metadata": {
  "kernelspec": {
   "display_name": "Python 3",
   "language": "python",
   "name": "python3"
  },
  "language_info": {
   "codemirror_mode": {
    "name": "ipython",
    "version": 3
   },
   "file_extension": ".py",
   "mimetype": "text/x-python",
   "name": "python",
   "nbconvert_exporter": "python",
   "pygments_lexer": "ipython3",
   "version": "3.8.8"
  }
 },
 "nbformat": 4,
 "nbformat_minor": 5
}
