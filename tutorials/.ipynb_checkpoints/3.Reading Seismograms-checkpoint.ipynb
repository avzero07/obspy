{
 "cells": [
  {
   "cell_type": "markdown",
   "id": "a94b3418",
   "metadata": {},
   "source": [
    "https://docs.obspy.org/tutorial/code_snippets/reading_seismograms.html"
   ]
  },
  {
   "cell_type": "code",
   "execution_count": 1,
   "id": "39490e1c",
   "metadata": {},
   "outputs": [],
   "source": [
    "from obspy import read"
   ]
  },
  {
   "cell_type": "code",
   "execution_count": 2,
   "id": "09e266ee",
   "metadata": {},
   "outputs": [],
   "source": [
    "stream = read('http://examples.obspy.org/RJOB_061005_072159.ehz.new')"
   ]
  },
  {
   "cell_type": "code",
   "execution_count": 3,
   "id": "b7f25d8a",
   "metadata": {},
   "outputs": [
    {
     "name": "stdout",
     "output_type": "stream",
     "text": [
      "1 Trace(s) in Stream:\n",
      ".RJOB..Z | 2005-10-06T07:21:59.850000Z - 2005-10-06T07:24:59.845000Z | 200.0 Hz, 36000 samples\n"
     ]
    }
   ],
   "source": [
    "print(stream)"
   ]
  },
  {
   "cell_type": "code",
   "execution_count": 4,
   "id": "3bd41f18",
   "metadata": {},
   "outputs": [
    {
     "data": {
      "text/plain": [
       "1"
      ]
     },
     "execution_count": 4,
     "metadata": {},
     "output_type": "execute_result"
    }
   ],
   "source": [
    "len(stream)"
   ]
  },
  {
   "cell_type": "code",
   "execution_count": 5,
   "id": "d1b98d38",
   "metadata": {},
   "outputs": [],
   "source": [
    "trace = stream[0]"
   ]
  },
  {
   "cell_type": "code",
   "execution_count": 6,
   "id": "b1ab134e",
   "metadata": {},
   "outputs": [
    {
     "name": "stdout",
     "output_type": "stream",
     "text": [
      ".RJOB..Z | 2005-10-06T07:21:59.850000Z - 2005-10-06T07:24:59.845000Z | 200.0 Hz, 36000 samples\n"
     ]
    }
   ],
   "source": [
    "print(trace)"
   ]
  },
  {
   "cell_type": "markdown",
   "id": "6116e7e8",
   "metadata": {},
   "source": [
    "## Accessing Meta Data"
   ]
  },
  {
   "cell_type": "code",
   "execution_count": 7,
   "id": "bf871226",
   "metadata": {},
   "outputs": [
    {
     "name": "stdout",
     "output_type": "stream",
     "text": [
      "         network: \n",
      "         station: RJOB\n",
      "        location: \n",
      "         channel: Z\n",
      "       starttime: 2005-10-06T07:21:59.850000Z\n",
      "         endtime: 2005-10-06T07:24:59.845000Z\n",
      "   sampling_rate: 200.0\n",
      "           delta: 0.005\n",
      "            npts: 36000\n",
      "           calib: 0.0949\n",
      "         _format: GSE2\n",
      "            gse2: AttribDict({'auxid': 'RJOB', 'datatype': 'CM6', 'calper': 1.0, 'instype': '', 'hang': -1.0, 'vang': -1.0, 'lat': -999.0, 'lon': -999.0, 'coordsys': '', 'elev': -0.999, 'edepth': -0.999})\n"
     ]
    }
   ],
   "source": [
    "print(trace.stats)"
   ]
  },
  {
   "cell_type": "code",
   "execution_count": 8,
   "id": "f263b0b4",
   "metadata": {},
   "outputs": [
    {
     "data": {
      "text/plain": [
       "'RJOB'"
      ]
     },
     "execution_count": 8,
     "metadata": {},
     "output_type": "execute_result"
    }
   ],
   "source": [
    "trace.stats.station"
   ]
  },
  {
   "cell_type": "code",
   "execution_count": 9,
   "id": "af1eb525",
   "metadata": {},
   "outputs": [
    {
     "data": {
      "text/plain": [
       "'CM6'"
      ]
     },
     "execution_count": 9,
     "metadata": {},
     "output_type": "execute_result"
    }
   ],
   "source": [
    "trace.stats.gse2.datatype"
   ]
  },
  {
   "cell_type": "code",
   "execution_count": 10,
   "id": "11970049",
   "metadata": {},
   "outputs": [
    {
     "data": {
      "text/plain": [
       "array([-38,  12,  -4, ..., -14,  -3,  -9])"
      ]
     },
     "execution_count": 10,
     "metadata": {},
     "output_type": "execute_result"
    }
   ],
   "source": [
    "trace.data"
   ]
  },
  {
   "cell_type": "code",
   "execution_count": 11,
   "id": "04cce95d",
   "metadata": {},
   "outputs": [
    {
     "data": {
      "text/plain": [
       "array([-38,  12,  -4])"
      ]
     },
     "execution_count": 11,
     "metadata": {},
     "output_type": "execute_result"
    }
   ],
   "source": [
    "trace.data[0:3]"
   ]
  },
  {
   "cell_type": "code",
   "execution_count": 12,
   "id": "6258715b",
   "metadata": {},
   "outputs": [
    {
     "data": {
      "text/plain": [
       "36000"
      ]
     },
     "execution_count": 12,
     "metadata": {},
     "output_type": "execute_result"
    }
   ],
   "source": [
    "len(trace)"
   ]
  },
  {
   "cell_type": "code",
   "execution_count": 13,
   "id": "4c6d993d",
   "metadata": {},
   "outputs": [
    {
     "data": {
      "image/png": "[encoded data removed]",
      "text/plain": [
       "<Figure size 800x250 with 1 Axes>"
      ]
     },
     "metadata": {
      "needs_background": "light"
     },
     "output_type": "display_data"
    }
   ],
   "source": [
    "op = stream.plot()"
   ]
  },
  {
   "cell_type": "markdown",
   "id": "230a784f",
   "metadata": {},
   "source": [
    "# Custom Data"
   ]
  },
  {
   "cell_type": "code",
   "execution_count": 14,
   "id": "3e04bf1b",
   "metadata": {},
   "outputs": [],
   "source": [
    "stream = read('sample-archives/20200128.CN.HOPB..HHZ.mseed')"
   ]
  },
  {
   "cell_type": "code",
   "execution_count": 15,
   "id": "e416b614",
   "metadata": {},
   "outputs": [
    {
     "name": "stdout",
     "output_type": "stream",
     "text": [
      "1 Trace(s) in Stream:\n",
      "CN.HOPB..HHZ | 2020-01-28T00:00:00.000000Z - 2020-01-28T23:59:59.990000Z | 100.0 Hz, 8640000 samples\n"
     ]
    }
   ],
   "source": [
    "print(stream)"
   ]
  },
  {
   "cell_type": "code",
   "execution_count": 16,
   "id": "ec4eebe2",
   "metadata": {},
   "outputs": [
    {
     "data": {
      "text/plain": [
       "'RJOB'"
      ]
     },
     "execution_count": 16,
     "metadata": {},
     "output_type": "execute_result"
    }
   ],
   "source": [
    "trace.stats.station"
   ]
  },
  {
   "cell_type": "code",
   "execution_count": 17,
   "id": "611b019b",
   "metadata": {},
   "outputs": [
    {
     "data": {
      "text/plain": [
       "1"
      ]
     },
     "execution_count": 17,
     "metadata": {},
     "output_type": "execute_result"
    }
   ],
   "source": [
    "len(stream)"
   ]
  },
  {
   "cell_type": "code",
   "execution_count": 18,
   "id": "5f2b254d",
   "metadata": {},
   "outputs": [],
   "source": [
    "trace = stream[0]"
   ]
  },
  {
   "cell_type": "markdown",
   "id": "0067323f",
   "metadata": {},
   "source": [
    "## Accessing Meta Data"
   ]
  },
  {
   "cell_type": "code",
   "execution_count": 19,
   "id": "ec722058",
   "metadata": {},
   "outputs": [
    {
     "name": "stdout",
     "output_type": "stream",
     "text": [
      "CN.HOPB..HHZ | 2020-01-28T00:00:00.000000Z - 2020-01-28T23:59:59.990000Z | 100.0 Hz, 8640000 samples\n"
     ]
    }
   ],
   "source": [
    "print(trace)"
   ]
  },
  {
   "cell_type": "code",
   "execution_count": 20,
   "id": "d7d2cd10",
   "metadata": {},
   "outputs": [
    {
     "name": "stdout",
     "output_type": "stream",
     "text": [
      "         network: CN\n",
      "         station: HOPB\n",
      "        location: \n",
      "         channel: HHZ\n",
      "       starttime: 2020-01-28T00:00:00.000000Z\n",
      "         endtime: 2020-01-28T23:59:59.990000Z\n",
      "   sampling_rate: 100.0\n",
      "           delta: 0.01\n",
      "            npts: 8640000\n",
      "           calib: 1.0\n",
      "         _format: MSEED\n",
      "           mseed: AttribDict({'dataquality': 'D', 'number_of_records': 2009, 'encoding': 'STEIM2', 'byteorder': '>', 'record_length': 4096, 'filesize': 8228864})\n"
     ]
    }
   ],
   "source": [
    "print(trace.stats)"
   ]
  },
  {
   "cell_type": "code",
   "execution_count": 21,
   "id": "1c5a1c80",
   "metadata": {},
   "outputs": [
    {
     "data": {
      "text/plain": [
       "'HOPB'"
      ]
     },
     "execution_count": 21,
     "metadata": {},
     "output_type": "execute_result"
    }
   ],
   "source": [
    "trace.stats.station"
   ]
  },
  {
   "cell_type": "code",
   "execution_count": 22,
   "id": "f7ce6fe6",
   "metadata": {},
   "outputs": [
    {
     "data": {
      "text/plain": [
       "AttribDict({'dataquality': 'D', 'number_of_records': 2009, 'encoding': 'STEIM2', 'byteorder': '>', 'record_length': 4096, 'filesize': 8228864})"
      ]
     },
     "execution_count": 22,
     "metadata": {},
     "output_type": "execute_result"
    }
   ],
   "source": [
    "trace.stats.mseed"
   ]
  },
  {
   "cell_type": "code",
   "execution_count": 23,
   "id": "793b3879",
   "metadata": {},
   "outputs": [
    {
     "data": {
      "text/plain": [
       "array([-371, -368, -376, ...,  181,  179,  171])"
      ]
     },
     "execution_count": 23,
     "metadata": {},
     "output_type": "execute_result"
    }
   ],
   "source": [
    "trace.data"
   ]
  },
  {
   "cell_type": "code",
   "execution_count": 24,
   "id": "1526346c",
   "metadata": {},
   "outputs": [
    {
     "data": {
      "text/plain": [
       "array([-371, -368, -376])"
      ]
     },
     "execution_count": 24,
     "metadata": {},
     "output_type": "execute_result"
    }
   ],
   "source": [
    "trace.data[0:3]"
   ]
  },
  {
   "cell_type": "code",
   "execution_count": 25,
   "id": "a7bc4580",
   "metadata": {},
   "outputs": [
    {
     "data": {
      "text/plain": [
       "8640000"
      ]
     },
     "execution_count": 25,
     "metadata": {},
     "output_type": "execute_result"
    }
   ],
   "source": [
    "len(trace)"
   ]
  },
  {
   "cell_type": "code",
   "execution_count": 26,
   "id": "4e5b4479",
   "metadata": {
    "scrolled": false
   },
   "outputs": [
    {
     "data": {
      "image/png": "[encoded data removed]",
      "text/plain": [
       "<Figure size 800x250 with 1 Axes>"
      ]
     },
     "metadata": {
      "needs_background": "light"
     },
     "output_type": "display_data"
    }
   ],
   "source": [
    "op = stream.plot()"
   ]
  },
  {
   "cell_type": "code",
   "execution_count": 27,
   "id": "33e12eda",
   "metadata": {},
   "outputs": [
    {
     "data": {
      "text/plain": [
       "317459"
      ]
     },
     "execution_count": 27,
     "metadata": {},
     "output_type": "execute_result"
    }
   ],
   "source": [
    "max(trace)"
   ]
  },
  {
   "cell_type": "code",
   "execution_count": 28,
   "id": "ddd52ad0",
   "metadata": {},
   "outputs": [],
   "source": [
    "#stream.write(\"20200128.CN.HOPB..HHZ.ascii\",format=\"TSPAIR\")\n",
    "\n",
    "# TOO BIG!!!"
   ]
  }
 ],
 "metadata": {
  "kernelspec": {
   "display_name": "Python 3",
   "language": "python",
   "name": "python3"
  },
  "language_info": {
   "codemirror_mode": {
    "name": "ipython",
    "version": 3
   },
   "file_extension": ".py",
   "mimetype": "text/x-python",
   "name": "python",
   "nbconvert_exporter": "python",
   "pygments_lexer": "ipython3",
   "version": "3.8.8"
  }
 },
 "nbformat": 4,
 "nbformat_minor": 5
}
