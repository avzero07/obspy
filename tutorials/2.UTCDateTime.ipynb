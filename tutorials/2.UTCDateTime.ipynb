{
 "cells": [
  {
   "cell_type": "markdown",
   "id": "4bb8edae",
   "metadata": {},
   "source": [
    "https://docs.obspy.org/tutorial/code_snippets/utc_date_time.html"
   ]
  },
  {
   "cell_type": "markdown",
   "id": "b9c17976",
   "metadata": {},
   "source": [
    "# Initialization"
   ]
  },
  {
   "cell_type": "code",
   "execution_count": 1,
   "id": "0a6f27d7",
   "metadata": {},
   "outputs": [],
   "source": [
    "from obspy.core import UTCDateTime"
   ]
  },
  {
   "cell_type": "code",
   "execution_count": 2,
   "id": "8a53dc24",
   "metadata": {},
   "outputs": [
    {
     "data": {
      "text/plain": [
       "2021-05-06T13:54:00.000000Z"
      ]
     },
     "execution_count": 2,
     "metadata": {},
     "output_type": "execute_result"
    }
   ],
   "source": [
    "UTCDateTime(\"2021-05-06T13:54:00\")"
   ]
  },
  {
   "cell_type": "code",
   "execution_count": 3,
   "id": "323b919f",
   "metadata": {},
   "outputs": [
    {
     "data": {
      "text/plain": [
       "2021-05-06T13:54:00.000000Z"
      ]
     },
     "execution_count": 3,
     "metadata": {},
     "output_type": "execute_result"
    }
   ],
   "source": [
    "UTCDateTime(2021, 5, 6, 13, 54, 0)"
   ]
  },
  {
   "cell_type": "code",
   "execution_count": 4,
   "id": "908ab28b",
   "metadata": {},
   "outputs": [
    {
     "data": {
      "text/plain": [
       "2021-05-06T13:54:00.000000Z"
      ]
     },
     "execution_count": 4,
     "metadata": {},
     "output_type": "execute_result"
    }
   ],
   "source": [
    "UTCDateTime(1620309240.0)"
   ]
  },
  {
   "cell_type": "markdown",
   "id": "ede8b3b0",
   "metadata": {},
   "source": [
    "# Attribute Access"
   ]
  },
  {
   "cell_type": "code",
   "execution_count": 5,
   "id": "fc21efab",
   "metadata": {},
   "outputs": [],
   "source": [
    "time = UTCDateTime(\"2021-05-06T13:54:00\")"
   ]
  },
  {
   "cell_type": "code",
   "execution_count": 6,
   "id": "b10549d0",
   "metadata": {},
   "outputs": [
    {
     "data": {
      "text/plain": [
       "2021"
      ]
     },
     "execution_count": 6,
     "metadata": {},
     "output_type": "execute_result"
    }
   ],
   "source": [
    "time.year"
   ]
  },
  {
   "cell_type": "code",
   "execution_count": 7,
   "id": "b03b34f0",
   "metadata": {},
   "outputs": [
    {
     "data": {
      "text/plain": [
       "126"
      ]
     },
     "execution_count": 7,
     "metadata": {},
     "output_type": "execute_result"
    }
   ],
   "source": [
    "time.julday"
   ]
  },
  {
   "cell_type": "code",
   "execution_count": 8,
   "id": "caaf26f6",
   "metadata": {},
   "outputs": [
    {
     "data": {
      "text/plain": [
       "1620309240.0"
      ]
     },
     "execution_count": 8,
     "metadata": {},
     "output_type": "execute_result"
    }
   ],
   "source": [
    "time.timestamp"
   ]
  },
  {
   "cell_type": "code",
   "execution_count": 9,
   "id": "d94600c3",
   "metadata": {},
   "outputs": [
    {
     "data": {
      "text/plain": [
       "3"
      ]
     },
     "execution_count": 9,
     "metadata": {},
     "output_type": "execute_result"
    }
   ],
   "source": [
    "time.weekday"
   ]
  },
  {
   "cell_type": "markdown",
   "id": "67026be1",
   "metadata": {},
   "source": [
    "# Handling Time Differences"
   ]
  },
  {
   "cell_type": "code",
   "execution_count": 34,
   "id": "9bc45b8e",
   "metadata": {},
   "outputs": [],
   "source": [
    "time = UTCDateTime(\"2012-09-07T12:15:00\")"
   ]
  },
  {
   "cell_type": "code",
   "execution_count": 35,
   "id": "8293876e",
   "metadata": {},
   "outputs": [
    {
     "name": "stdout",
     "output_type": "stream",
     "text": [
      "2012-09-07T13:15:00.000000Z\n"
     ]
    }
   ],
   "source": [
    "print(time + 3600)"
   ]
  },
  {
   "cell_type": "code",
   "execution_count": 36,
   "id": "25a02422",
   "metadata": {},
   "outputs": [],
   "source": [
    "time2 = UTCDateTime(2012, 1, 1)"
   ]
  },
  {
   "cell_type": "code",
   "execution_count": 37,
   "id": "4c5ada12",
   "metadata": {},
   "outputs": [
    {
     "name": "stdout",
     "output_type": "stream",
     "text": [
      "21644100.0\n"
     ]
    }
   ],
   "source": [
    "print(time - time2)"
   ]
  },
  {
   "cell_type": "markdown",
   "id": "b84cfbab",
   "metadata": {},
   "source": [
    "# Exercises\n",
    "\n",
    "- Calculate the number of hours passed since your birth. Optional: Include the correct time zone. The current date and time can be obtained with\n",
    "\n",
    "<pre>UTCDateTime() </pre>"
   ]
  },
  {
   "cell_type": "code",
   "execution_count": 30,
   "id": "ba2aeff0",
   "metadata": {},
   "outputs": [],
   "source": [
    "time1 = UTCDateTime(1995,4,8)\n",
    "time2 = UTCDateTime()"
   ]
  },
  {
   "cell_type": "code",
   "execution_count": 31,
   "id": "c7ba0532",
   "metadata": {},
   "outputs": [
    {
     "data": {
      "text/plain": [
       "823036082.383529"
      ]
     },
     "execution_count": 31,
     "metadata": {},
     "output_type": "execute_result"
    }
   ],
   "source": [
    "time2 - time1"
   ]
  },
  {
   "cell_type": "code",
   "execution_count": 33,
   "id": "a9fac599",
   "metadata": {
    "scrolled": true
   },
   "outputs": [
    {
     "name": "stdout",
     "output_type": "stream",
     "text": [
      "Hours Since my Birth = 228621.13\n"
     ]
    }
   ],
   "source": [
    "print(\"Hours Since my Birth = {:.2f}\".format((time2-time1)/(3600)))"
   ]
  },
  {
   "cell_type": "markdown",
   "id": "21c37670",
   "metadata": {},
   "source": [
    "- Get a list of 10 UTCDateTime objects, starting yesterday at 10:00 with a spacing of 90 minutes."
   ]
  },
  {
   "cell_type": "code",
   "execution_count": 39,
   "id": "b43a44d7",
   "metadata": {},
   "outputs": [],
   "source": [
    "res = list()\n",
    "for i in range(10):\n",
    "    temp = UTCDateTime(\"2021-05-06T10:10:00\")\n",
    "    res.append(temp+(i*(90*60)))"
   ]
  },
  {
   "cell_type": "code",
   "execution_count": 42,
   "id": "132ee0f9",
   "metadata": {},
   "outputs": [
    {
     "name": "stdout",
     "output_type": "stream",
     "text": [
      "2021-05-06T10:10:00.000000Z\n",
      "2021-05-06T11:40:00.000000Z\n",
      "2021-05-06T13:10:00.000000Z\n",
      "2021-05-06T14:40:00.000000Z\n",
      "2021-05-06T16:10:00.000000Z\n",
      "2021-05-06T17:40:00.000000Z\n",
      "2021-05-06T19:10:00.000000Z\n",
      "2021-05-06T20:40:00.000000Z\n",
      "2021-05-06T22:10:00.000000Z\n",
      "2021-05-06T23:40:00.000000Z\n"
     ]
    }
   ],
   "source": [
    "for item in res:\n",
    "    print(item)"
   ]
  },
  {
   "cell_type": "markdown",
   "id": "b716f531",
   "metadata": {},
   "source": [
    "- The first session starts at 09:00 and lasts for 3 hours and 15 minutes. Assuming we want to have the coffee break 1234 seconds and 5 microseconds before it ends. At what time is the coffee break?"
   ]
  },
  {
   "cell_type": "code",
   "execution_count": 43,
   "id": "433ed57d",
   "metadata": {},
   "outputs": [],
   "source": [
    "timeStart = UTCDateTime(\"2021-05-06T09:00:00\")\n",
    "timeEnd = timeStart+((180*60)+(15*60))\n",
    "timeBreak = timeEnd - (1234.000005)"
   ]
  },
  {
   "cell_type": "code",
   "execution_count": 44,
   "id": "c0a9c61c",
   "metadata": {},
   "outputs": [
    {
     "name": "stdout",
     "output_type": "stream",
     "text": [
      "Start = 2021-05-06T09:00:00.000000Z\n",
      "Break = 2021-05-06T11:54:25.999995Z\n",
      "End = 2021-05-06T12:15:00.000000Z\n"
     ]
    }
   ],
   "source": [
    "print(\"Start = {}\".format(timeStart))\n",
    "print(\"Break = {}\".format(timeBreak))\n",
    "print(\"End = {}\".format(timeEnd))"
   ]
  },
  {
   "cell_type": "markdown",
   "id": "4f735331",
   "metadata": {},
   "source": [
    "- Assume you had your last cup of coffee yesterday at breakfast. How many minutes do you have to survive with that cup of coffee?"
   ]
  },
  {
   "cell_type": "code",
   "execution_count": 49,
   "id": "82be2400",
   "metadata": {},
   "outputs": [],
   "source": [
    "timCof = UTCDateTime(\"2021-05-06T07:10:00\")\n",
    "timNow = UTCDateTime()\n",
    "minutesSinceCoffee = (timNow-timCof)/60"
   ]
  },
  {
   "cell_type": "code",
   "execution_count": 50,
   "id": "9752bacb",
   "metadata": {},
   "outputs": [
    {
     "name": "stdout",
     "output_type": "stream",
     "text": [
      "Survived for 850.2591486 Minutes\n"
     ]
    }
   ],
   "source": [
    "print(\"Survived for {} Minutes\".format(minutesSinceCoffee))"
   ]
  }
 ],
 "metadata": {
  "kernelspec": {
   "display_name": "Python 3",
   "language": "python",
   "name": "python3"
  },
  "language_info": {
   "codemirror_mode": {
    "name": "ipython",
    "version": 3
   },
   "file_extension": ".py",
   "mimetype": "text/x-python",
   "name": "python",
   "nbconvert_exporter": "python",
   "pygments_lexer": "ipython3",
   "version": "3.8.8"
  }
 },
 "nbformat": 4,
 "nbformat_minor": 5
}
